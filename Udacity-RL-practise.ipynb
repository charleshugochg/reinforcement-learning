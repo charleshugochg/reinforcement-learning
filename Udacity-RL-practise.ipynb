{
 "cells": [
  {
   "cell_type": "markdown",
   "metadata": {},
   "source": [
    "# Temporal Diffrencial Learning"
   ]
  },
  {
   "cell_type": "markdown",
   "metadata": {},
   "source": [
    "## 1 TD(lamda)\n",
    "### 1.1 Estimating value function from data"
   ]
  },
  {
   "cell_type": "code",
   "execution_count": null,
   "metadata": {},
   "outputs": [],
   "source": [
    "import random\n",
    "import numpy as np"
   ]
  },
  {
   "cell_type": "code",
   "execution_count": null,
   "metadata": {},
   "outputs": [],
   "source": [
    "class Model:\n",
    "    def state_switcher(self, state):\n",
    "        #decoding transition table and return on possibility\n",
    "        #SUCH A NICE ALGORYTHM :D\n",
    "        rand = random.random()\n",
    "        for tup in trans.get(state):\n",
    "            if rand < tup[1]:\n",
    "                return tup[0]\n",
    "            else:\n",
    "                rand = rand - tup[1]\n",
    "    \n",
    "    def __init__(self, trans, rewards):\n",
    "        #save transition table and reward table\n",
    "        self.trans = trans\n",
    "        self.rewards = rewards\n",
    "        #initialize a state\n",
    "        self.restart()\n",
    "    \n",
    "    def restart(self):\n",
    "        self.state = self.state_switcher(\"start\")\n",
    "        \n",
    "    def getState(self):\n",
    "        return self.state\n",
    "    \n",
    "    def getNumStates(self):\n",
    "        return len(rewards)\n",
    "    \n",
    "    def step(self):\n",
    "        #save the reward of this state\n",
    "        reward = self.rewards.get(self.state)\n",
    "        #change the state\n",
    "        self.state = self.state_switcher(self.state)\n",
    "        return reward"
   ]
  },
  {
   "cell_type": "code",
   "execution_count": null,
   "metadata": {},
   "outputs": [],
   "source": [
    "class Learner:\n",
    "    def __init__(self, model, discount_factor=1):\n",
    "        #save the model, factor and number of states\n",
    "        self.discount_factor = discount_factor\n",
    "        self.model = model\n",
    "        self.num_states = model.getNumStates()\n",
    "        \n",
    "        #our goal value table\n",
    "        self.value_table = np.zeros(self.num_states)\n",
    "        \n",
    "        #for keep track of states update times\n",
    "        self.times_table = np.ones(self.num_states)\n",
    "        \n",
    "    def learn(self, num_ep, lamda):\n",
    "        for ep in range(num_ep):\n",
    "            #start an episode\n",
    "            #reset model to start and create e table, backup value table to temp\n",
    "            model.restart()\n",
    "            e = np.zeros(self.num_states)\n",
    "            tmp_value_table = self.value_table\n",
    "            \n",
    "            #starting a step\n",
    "            while(True):\n",
    "                #take a step and get reward, update e-table\n",
    "                prev_state = model.getState()\n",
    "                e[prev_state] = e[prev_state]+1\n",
    "                reward = model.step()\n",
    "                next_state = model.getState()\n",
    "                \n",
    "                #update the whole temporary value table with differences and update e\n",
    "                tmp_value_table = tmp_value_table + ((1/self.times_table[prev_state])*(reward + self.discount_factor*self.value_table[next_state] - self.value_table[prev_state]))*e\n",
    "                e = e*self.discount_factor*lamda\n",
    "                \n",
    "                #keep track of states update times\n",
    "                self.times_table[prev_state] = self.times_table[prev_state] + 1\n",
    "\n",
    "                #getting to the end, world is over\n",
    "                if next_state == self.num_states - 1:\n",
    "                    #update the value table from temp\n",
    "                    self.value_table = tmp_value_table\n",
    "                    break\n",
    "                    \n",
    "                #else: go to the top of while loop for next step\n",
    "                    \n",
    "        return self.value_table"
   ]
  },
  {
   "cell_type": "code",
   "execution_count": null,
   "metadata": {},
   "outputs": [],
   "source": [
    "trans = {\n",
    "    \"start\": [(0, 0.4), (1, 0.3), (2, 0.3)],\n",
    "    0: [(3, 1)],\n",
    "    1: [(3, 1)],\n",
    "    2: [(4, 1)],\n",
    "    3: [(4, 1)],\n",
    "    4: [(5, 0.2), (6, 0.5), (7, 0.3)],\n",
    "    5: [(8, 1)],\n",
    "    6: [(8, 1)],\n",
    "    7: [(9, 1)],\n",
    "    8: [(9, 1)]\n",
    "}\n",
    "rewards = {\n",
    "    0: 1,\n",
    "    1: 2,\n",
    "    2: 3,\n",
    "    3: 4,\n",
    "    4: 5,\n",
    "    5: 2,\n",
    "    6: 4,\n",
    "    7: 10,\n",
    "    8: 6,\n",
    "    9: 0\n",
    "}\n",
    "model = Model(trans, rewards)\n",
    "learner = Learner(model)"
   ]
  },
  {
   "cell_type": "code",
   "execution_count": null,
   "metadata": {
    "scrolled": false
   },
   "outputs": [],
   "source": [
    "learner.learn(1000, 0)"
   ]
  },
  {
   "cell_type": "code",
   "execution_count": null,
   "metadata": {},
   "outputs": [],
   "source": []
  }
 ],
 "metadata": {
  "kernelspec": {
   "display_name": "Python 3",
   "language": "python",
   "name": "python3"
  },
  "language_info": {
   "codemirror_mode": {
    "name": "ipython",
    "version": 3
   },
   "file_extension": ".py",
   "mimetype": "text/x-python",
   "name": "python",
   "nbconvert_exporter": "python",
   "pygments_lexer": "ipython3",
   "version": "3.7.3"
  }
 },
 "nbformat": 4,
 "nbformat_minor": 2
}
